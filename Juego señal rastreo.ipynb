{
 "cells": [
  {
   "cell_type": "markdown",
   "id": "ca559caa-0ce2-42e3-be5e-537097db5995",
   "metadata": {},
   "source": [
    "# PRACTICA SEÑAL DE RASTREO"
   ]
  },
  {
   "cell_type": "markdown",
   "id": "91885b36-d8ca-4025-a466-c41ae47161ad",
   "metadata": {},
   "source": [
    "Vamos a realizar esta practica para entender la señal de rastro. Con los datos dados, que corresponden a un pronostico por promedio ponderado de tres tecnicas de series de tiempo, se va a modificar los pesos de cada tecnica."
   ]
  },
  {
   "cell_type": "markdown",
   "id": "31186cc9-7313-48a2-aa27-e46679113bb8",
   "metadata": {},
   "source": [
    "El juego consiste en lograr el \"mejor\" pronostico posible, antes de que acabe el tiempo dado. Se tienen pronosticos para los proximos 7 periodos (7 oportunidades para lograr el mejor resultado posible).Solamente se pueden modificar los pesos de cada tecnica y a medida que vaya pasando cada periodo el sistema ira calculando la señal de rastreo y es a través de ella que se podrá modificar de mjor manera los pronósticos."
   ]
  },
  {
   "cell_type": "markdown",
   "id": "8798b298-64df-4d86-8874-0d071b64f603",
   "metadata": {},
   "source": [
    "## MANOS A LA OBRA"
   ]
  },
  {
   "cell_type": "code",
   "execution_count": 1,
   "id": "41e13af8-f862-4194-aca5-90a4e82868e6",
   "metadata": {},
   "outputs": [
    {
     "data": {
      "text/plain": [
       "<Popen: returncode: None args: 'streamlit run forecast_app.py'>"
      ]
     },
     "execution_count": 1,
     "metadata": {},
     "output_type": "execute_result"
    }
   ],
   "source": [
    "import subprocess\n",
    "\n",
    "# Reemplaza 'path/to/your_script.py' con la ruta a tu script de Streamlit\n",
    "script_path = 'forecast_app.py'\n",
    "\n",
    "# Comando para ejecutar Streamlit\n",
    "command = f'streamlit run {script_path}'\n",
    "\n",
    "# Ejecuta el comando en una nueva terminal\n",
    "subprocess.Popen(command, shell=True)\n"
   ]
  },
  {
   "cell_type": "code",
   "execution_count": null,
   "id": "f0feae01-7297-4c55-a5fe-0b99cc146ae8",
   "metadata": {},
   "outputs": [],
   "source": []
  }
 ],
 "metadata": {
  "kernelspec": {
   "display_name": "Python 3 (ipykernel)",
   "language": "python",
   "name": "python3"
  },
  "language_info": {
   "codemirror_mode": {
    "name": "ipython",
    "version": 3
   },
   "file_extension": ".py",
   "mimetype": "text/x-python",
   "name": "python",
   "nbconvert_exporter": "python",
   "pygments_lexer": "ipython3",
   "version": "3.9.18"
  }
 },
 "nbformat": 4,
 "nbformat_minor": 5
}
